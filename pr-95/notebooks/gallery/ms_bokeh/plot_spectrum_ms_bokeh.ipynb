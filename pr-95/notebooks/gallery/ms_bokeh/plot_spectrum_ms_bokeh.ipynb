{
  "cells": [
    {
      "cell_type": "markdown",
      "metadata": {},
      "source": [
        "\n# Spectrum ms_bokeh\n\nThis example shows a spectrum. \nWe can add the ion_annotation and sequence annotation by specifying these columns.\n"
      ]
    },
    {
      "cell_type": "code",
      "execution_count": null,
      "metadata": {
        "collapsed": false
      },
      "outputs": [],
      "source": [
        "import pandas as pd\nfrom io import StringIO\nimport requests\n\npd.options.plotting.backend = \"ms_bokeh\"\n\n# download the file for example plotting\nurl = (\n    \"https://github.com/OpenMS/pyopenms_viz/releases/download/v0.1.5/TestSpectrumDf.tsv\"\n)\nresponse = requests.get(url)\nresponse.raise_for_status()  # Check for any HTTP errors\ndf = pd.read_csv(StringIO(response.text), sep=\"\\t\")\n\n# mirror a reference spectrum with ion and sequence annoations\ndf.plot(\n    x=\"mz\",\n    y=\"intensity\",\n    kind=\"spectrum\",\n    ion_annotation=\"ion_annotation\",\n    sequence_annotation=\"sequence\",\n)"
      ]
    }
  ],
  "metadata": {
    "kernelspec": {
      "display_name": "Python 3",
      "language": "python",
      "name": "python3"
    },
    "language_info": {
      "codemirror_mode": {
        "name": "ipython",
        "version": 3
      },
      "file_extension": ".py",
      "mimetype": "text/x-python",
      "name": "python",
      "nbconvert_exporter": "python",
      "pygments_lexer": "ipython3",
      "version": "3.13.5"
    }
  },
  "nbformat": 4,
  "nbformat_minor": 0
}