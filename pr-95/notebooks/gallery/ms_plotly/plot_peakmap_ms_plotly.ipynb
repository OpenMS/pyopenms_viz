{
  "cells": [
    {
      "cell_type": "markdown",
      "metadata": {},
      "source": [
        "\n# PeakMap ms_plotly\n\nThis shows a peakmap across m/z and retention time. This peakmap is quite clean because signals are extracted across the m/z dimension.\n"
      ]
    },
    {
      "cell_type": "code",
      "execution_count": null,
      "metadata": {
        "collapsed": false
      },
      "outputs": [],
      "source": [
        "import pandas as pd\nfrom io import StringIO\nimport requests\n\npd.options.plotting.backend = \"ms_plotly\"\n\n# download the file for example plotting\nurl = \"https://github.com/OpenMS/pyopenms_viz/releases/download/v0.1.5/ionMobilityTestFeatureDf.tsv\"\nresponse = requests.get(url)\nresponse.raise_for_status()  # Check for any HTTP errors\ndf = pd.read_csv(StringIO(response.text), sep=\"\\t\")\n\n# Code to plot a peakmap\ndf.plot(kind=\"peakmap\", x=\"rt\", y=\"mz\", z=\"int\", aggregate_duplicates=True)"
      ]
    }
  ],
  "metadata": {
    "kernelspec": {
      "display_name": "Python 3",
      "language": "python",
      "name": "python3"
    },
    "language_info": {
      "codemirror_mode": {
        "name": "ipython",
        "version": 3
      },
      "file_extension": ".py",
      "mimetype": "text/x-python",
      "name": "python",
      "nbconvert_exporter": "python",
      "pygments_lexer": "ipython3",
      "version": "3.12.11"
    }
  },
  "nbformat": 4,
  "nbformat_minor": 0
}