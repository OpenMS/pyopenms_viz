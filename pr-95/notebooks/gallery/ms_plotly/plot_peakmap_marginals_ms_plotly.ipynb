{
  "cells": [
    {
      "cell_type": "markdown",
      "metadata": {},
      "source": [
        "\n# PeakMap ms_plotly\n\nThis example plots a peakmap with marginals by setting `add_marginals=True`\nA chromatogram is shown along the x-axis and a spectrum is shown along the y-axis.\n"
      ]
    },
    {
      "cell_type": "code",
      "execution_count": null,
      "metadata": {
        "collapsed": false
      },
      "outputs": [],
      "source": [
        "import pandas as pd\nimport requests\nfrom io import StringIO\n\npd.options.plotting.backend = \"ms_plotly\"\n\n# download the file for example plotting\nurl = \"https://github.com/OpenMS/pyopenms_viz/releases/download/v0.1.5/ionMobilityTestFeatureDf.tsv\"\nresponse = requests.get(url)\nresponse.raise_for_status()  # Check for any HTTP errors\ndf = pd.read_csv(StringIO(response.text), sep=\"\\t\")\n\ndf.plot(\n    kind=\"peakmap\",\n    x=\"rt\",\n    y=\"mz\",\n    z=\"int\",\n    add_marginals=True,\n    aggregate_duplicates=True,\n)"
      ]
    }
  ],
  "metadata": {
    "kernelspec": {
      "display_name": "Python 3",
      "language": "python",
      "name": "python3"
    },
    "language_info": {
      "codemirror_mode": {
        "name": "ipython",
        "version": 3
      },
      "file_extension": ".py",
      "mimetype": "text/x-python",
      "name": "python",
      "nbconvert_exporter": "python",
      "pygments_lexer": "ipython3",
      "version": "3.13.5"
    }
  },
  "nbformat": 4,
  "nbformat_minor": 0
}