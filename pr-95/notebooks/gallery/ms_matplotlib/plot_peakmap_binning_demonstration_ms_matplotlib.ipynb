{
  "cells": [
    {
      "cell_type": "markdown",
      "metadata": {},
      "source": [
        "\n# Plot Peakmap Binning Demonstration\n\nThis example demonstrates how different binning levels affect peak map visualization\n"
      ]
    },
    {
      "cell_type": "code",
      "execution_count": null,
      "metadata": {
        "collapsed": false
      },
      "outputs": [],
      "source": [
        "import pandas as pd\nimport requests\nfrom io import StringIO\nimport numpy as np\nimport matplotlib.pyplot as plt\n\npd.options.plotting.backend = \"ms_matplotlib\"\n\nurl = \"https://github.com/OpenMS/pyopenms_viz/releases/download/v0.1.5/TestMSExperimentDf.tsv\"\nresponse = requests.get(url)\nresponse.raise_for_status()\ndf = pd.read_csv(StringIO(response.text), sep=\"\\t\")\n\n\nfig, axs = plt.subplots(3, 1, figsize=(5, 15), sharex=True, sharey=True)\n\n\nbinning_levels = [(10, 10), (40, 40), (100, 100)]\n\nfor ax, (num_x_bins, num_y_bins) in zip(axs, binning_levels):\n    \n    df.plot(\n        kind=\"peakmap\",\n        x=\"RT\",\n        y=\"mz\",\n        z=\"inty\",\n        aggregate_duplicates=True,\n        num_x_bins=num_x_bins,\n        num_y_bins=num_y_bins,\n        canvas=ax,\n        title=f\"Binning: {num_x_bins} x {num_y_bins}\",\n        title_font_size=12,\n        show_plot = False,\n        xaxis_label_font_size=10,\n        yaxis_label_font_size=10,\n        xaxis_tick_font_size=9,\n        yaxis_tick_font_size=9,\n    )\n\nfig.subplots_adjust(top=0.95, hspace=0.3, bottom=0.13)\nplt.show()"
      ]
    }
  ],
  "metadata": {
    "kernelspec": {
      "display_name": "Python 3",
      "language": "python",
      "name": "python3"
    },
    "language_info": {
      "codemirror_mode": {
        "name": "ipython",
        "version": 3
      },
      "file_extension": ".py",
      "mimetype": "text/x-python",
      "name": "python",
      "nbconvert_exporter": "python",
      "pygments_lexer": "ipython3",
      "version": "3.13.5"
    }
  },
  "nbformat": 4,
  "nbformat_minor": 0
}