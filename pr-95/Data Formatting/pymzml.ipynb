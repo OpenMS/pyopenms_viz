{
 "cells": [
  {
   "cell_type": "markdown",
   "id": "f8776c6e-5d39-4f3e-9d9a-152dd0359c93",
   "metadata": {},
   "source": [
    "# pymzml"
   ]
  },
  {
   "cell_type": "raw",
   "id": "5ea454b7-3fb4-4d87-86ac-62dcbb2671b1",
   "metadata": {
    "editable": true,
    "raw_mimetype": "text/html",
    "slideshow": {
     "slide_type": ""
    },
    "tags": []
   },
   "source": [
    "<a href=\"https://notebooks.gesis.org/binder/v2/gh/OpenMS/pyopenms_viz/main?filepath=docs/Data Formatting/pymzml.ipynb\" target=\"_blank\">\n",
    "    <img src=\"https://mybinder.org/badge_logo.svg\" alt=\"Launch on Binder\" style=\"width: 150px;\"/>\n",
    "</a>\n",
    "<br></br>"
   ]
  },
  {
   "cell_type": "markdown",
   "id": "efb4dce4-75eb-464d-b839-bd3e93819142",
   "metadata": {},
   "source": [
    "## Install pymzml"
   ]
  },
  {
   "cell_type": "code",
   "execution_count": 1,
   "id": "6944da94-fa96-4f8e-bb68-798ca545e810",
   "metadata": {},
   "outputs": [],
   "source": [
    "!pip install pymzml --quiet"
   ]
  },
  {
   "cell_type": "code",
   "execution_count": 2,
   "id": "44c8ed73-b62f-4c05-ab3a-f00fd8ba84c1",
   "metadata": {},
   "outputs": [],
   "source": [
    "import pandas as pd\n",
    "import pymzml"
   ]
  },
  {
   "cell_type": "markdown",
   "id": "29a93547-1b8c-4b93-91c0-17c7caf932fd",
   "metadata": {},
   "source": [
    "## Download the test file"
   ]
  },
  {
   "cell_type": "code",
   "execution_count": 4,
   "id": "02396b2f-50c4-4e7c-b938-74a8f4c28dd8",
   "metadata": {},
   "outputs": [
    {
     "name": "stdout",
     "output_type": "stream",
     "text": [
      "File test.mzML downloaded successfully!\n"
     ]
    }
   ],
   "source": [
    "# # Download test file\n",
    "import requests\n",
    "\n",
    "url = 'https://raw.githubusercontent.com/levitsky/pyteomics/master/tests/test.mzML'\n",
    "file_name = 'test.mzML'\n",
    "\n",
    "# Send a GET request to the URL\n",
    "response = requests.get(url)\n",
    "\n",
    "# Save the content of the response to a file\n",
    "with open(file_name, 'wb') as file:\n",
    "    file.write(response.content)\n",
    "\n",
    "print(f'File {file_name} downloaded successfully!')\n"
   ]
  },
  {
   "cell_type": "markdown",
   "id": "9c601f0e-9118-44e5-a8d0-96b62ef1e65e",
   "metadata": {},
   "source": [
    "## Load `.mzML` file and convert to `pd.DataFrame`"
   ]
  },
  {
   "cell_type": "code",
   "execution_count": 5,
   "id": "3cfbb66c-2dcc-4293-a0f3-4e747ec5c880",
   "metadata": {},
   "outputs": [
    {
     "data": {
      "text/html": [
       "<div>\n",
       "<style scoped>\n",
       "    .dataframe tbody tr th:only-of-type {\n",
       "        vertical-align: middle;\n",
       "    }\n",
       "\n",
       "    .dataframe tbody tr th {\n",
       "        vertical-align: top;\n",
       "    }\n",
       "\n",
       "    .dataframe thead th {\n",
       "        text-align: right;\n",
       "    }\n",
       "</style>\n",
       "<table border=\"1\" class=\"dataframe\">\n",
       "  <thead>\n",
       "    <tr style=\"text-align: right;\">\n",
       "      <th></th>\n",
       "      <th>mz</th>\n",
       "      <th>int</th>\n",
       "    </tr>\n",
       "  </thead>\n",
       "  <tbody>\n",
       "    <tr>\n",
       "      <th>0</th>\n",
       "      <td>204.760065</td>\n",
       "      <td>3901.930681</td>\n",
       "    </tr>\n",
       "    <tr>\n",
       "      <th>1</th>\n",
       "      <td>204.778823</td>\n",
       "      <td>3431.441349</td>\n",
       "    </tr>\n",
       "    <tr>\n",
       "      <th>2</th>\n",
       "      <td>204.790975</td>\n",
       "      <td>3703.068912</td>\n",
       "    </tr>\n",
       "    <tr>\n",
       "      <th>3</th>\n",
       "      <td>204.795946</td>\n",
       "      <td>4317.227255</td>\n",
       "    </tr>\n",
       "    <tr>\n",
       "      <th>4</th>\n",
       "      <td>204.797708</td>\n",
       "      <td>4267.166873</td>\n",
       "    </tr>\n",
       "    <tr>\n",
       "      <th>...</th>\n",
       "      <td>...</td>\n",
       "      <td>...</td>\n",
       "    </tr>\n",
       "    <tr>\n",
       "      <th>1735</th>\n",
       "      <td>1998.647154</td>\n",
       "      <td>2567.956920</td>\n",
       "    </tr>\n",
       "    <tr>\n",
       "      <th>1736</th>\n",
       "      <td>1998.908241</td>\n",
       "      <td>5539.517009</td>\n",
       "    </tr>\n",
       "    <tr>\n",
       "      <th>1737</th>\n",
       "      <td>1999.254369</td>\n",
       "      <td>14109.211636</td>\n",
       "    </tr>\n",
       "    <tr>\n",
       "      <th>1738</th>\n",
       "      <td>1999.510959</td>\n",
       "      <td>8432.185933</td>\n",
       "    </tr>\n",
       "    <tr>\n",
       "      <th>1739</th>\n",
       "      <td>1999.782814</td>\n",
       "      <td>1875.846606</td>\n",
       "    </tr>\n",
       "  </tbody>\n",
       "</table>\n",
       "<p>1740 rows × 2 columns</p>\n",
       "</div>"
      ],
      "text/plain": [
       "               mz           int\n",
       "0      204.760065   3901.930681\n",
       "1      204.778823   3431.441349\n",
       "2      204.790975   3703.068912\n",
       "3      204.795946   4317.227255\n",
       "4      204.797708   4267.166873\n",
       "...           ...           ...\n",
       "1735  1998.647154   2567.956920\n",
       "1736  1998.908241   5539.517009\n",
       "1737  1999.254369  14109.211636\n",
       "1738  1999.510959   8432.185933\n",
       "1739  1999.782814   1875.846606\n",
       "\n",
       "[1740 rows x 2 columns]"
      ]
     },
     "execution_count": 5,
     "metadata": {},
     "output_type": "execute_result"
    }
   ],
   "source": [
    "input_file = \"./test.mzML\"\n",
    "\n",
    "run = pymzml.run.Reader(input_file)\n",
    "# Get the first spec\n",
    "spec = run.next()\n",
    "# Convert to Pandas DataFrame\n",
    "df = pd.DataFrame(spec.centroidedPeaks).rename(columns={0:'mz', 1:'int'})\n",
    "df"
   ]
  }
 ],
 "metadata": {
  "kernelspec": {
   "display_name": "Python 3 (ipykernel)",
   "language": "python",
   "name": "python3"
  },
  "language_info": {
   "codemirror_mode": {
    "name": "ipython",
    "version": 3
   },
   "file_extension": ".py",
   "mimetype": "text/x-python",
   "name": "python",
   "nbconvert_exporter": "python",
   "pygments_lexer": "ipython3",
   "version": "3.12.7"
  }
 },
 "nbformat": 4,
 "nbformat_minor": 5
}
