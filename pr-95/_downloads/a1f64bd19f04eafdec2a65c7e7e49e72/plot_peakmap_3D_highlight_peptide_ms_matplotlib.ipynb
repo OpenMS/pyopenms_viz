{
  "cells": [
    {
      "cell_type": "markdown",
      "metadata": {},
      "source": [
        "\n# Color Targeted Peptide PeakMap 3D ms_matplotlib\n\nThis shows a peakmap across m/z and retention time, plotted in 3D.\n"
      ]
    },
    {
      "cell_type": "code",
      "execution_count": null,
      "metadata": {
        "collapsed": false
      },
      "outputs": [],
      "source": [
        "import pandas as pd\nfrom io import StringIO\nimport requests\nimport numpy as np\n\npd.options.plotting.backend = \"ms_matplotlib\"\n\n# download the file for example plotting\nurl = \"https://github.com/OpenMS/pyopenms_viz/releases/download/v0.1.5/TestMSExperimentDf.tsv\"\nresponse = requests.get(url)\nresponse.raise_for_status()  # Check for any HTTP errors\ndf = pd.read_csv(StringIO(response.text), sep=\"\\t\")\n\n# create column which labels the peaks belonging to the target peptide\ndf['label'] = 'unknown'\ndf.iloc[ (np.ceil(df.mz) < 272)  & (np.ceil(df.mz) > 266) & \\\n(np.ceil(df.RT) < 237)  & (np.ceil(df.RT) > 212), 3] = \"peptide\"\n\n# plot\ndf.plot(x=\"RT\", y=\"mz\", z=\"inty\", zlabel=\"Intensity\", by='label', kind=\"peakmap\", plot_3d=True, height=800, width=900)"
      ]
    }
  ],
  "metadata": {
    "kernelspec": {
      "display_name": "Python 3",
      "language": "python",
      "name": "python3"
    },
    "language_info": {
      "codemirror_mode": {
        "name": "ipython",
        "version": 3
      },
      "file_extension": ".py",
      "mimetype": "text/x-python",
      "name": "python",
      "nbconvert_exporter": "python",
      "pygments_lexer": "ipython3",
      "version": "3.13.5"
    }
  },
  "nbformat": 4,
  "nbformat_minor": 0
}