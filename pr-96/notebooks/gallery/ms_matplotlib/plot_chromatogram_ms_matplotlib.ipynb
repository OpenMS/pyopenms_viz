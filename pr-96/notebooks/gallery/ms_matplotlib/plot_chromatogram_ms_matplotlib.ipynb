{
  "cells": [
    {
      "cell_type": "markdown",
      "metadata": {},
      "source": [
        "\n# Chromatogram ms_matplotlib\n\nThis example shows a chromatogram colored by mass trace. Since all fragment ion spectra coelute this provides strong evidence that the peptide is present.\n"
      ]
    },
    {
      "cell_type": "code",
      "execution_count": null,
      "metadata": {
        "collapsed": false
      },
      "outputs": [],
      "source": [
        "import pandas as pd\nimport requests\nfrom io import StringIO\n\npd.options.plotting.backend = \"ms_matplotlib\"\n\n\n# download the file for example plotting\nurl = \"https://github.com/OpenMS/pyopenms_viz/releases/download/v0.1.5/ionMobilityTestChromatogramDf.tsv\"\nresponse = requests.get(url)\nresponse.raise_for_status()  # Check for any HTTP errors\ndf = pd.read_csv(StringIO(response.text), sep=\"\\t\")\n\ndf.plot(\n    kind=\"chromatogram\",\n    x=\"rt\",\n    y=\"int\",\n    by=\"Annotation\",\n    legend_config=dict(bbox_to_anchor=(1, 0.7)),\n)"
      ]
    }
  ],
  "metadata": {
    "kernelspec": {
      "display_name": "Python 3",
      "language": "python",
      "name": "python3"
    },
    "language_info": {
      "codemirror_mode": {
        "name": "ipython",
        "version": 3
      },
      "file_extension": ".py",
      "mimetype": "text/x-python",
      "name": "python",
      "nbconvert_exporter": "python",
      "pygments_lexer": "ipython3",
      "version": "3.12.11"
    }
  },
  "nbformat": 4,
  "nbformat_minor": 0
}