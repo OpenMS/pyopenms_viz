{
  "cells": [
    {
      "cell_type": "markdown",
      "metadata": {},
      "source": [
        "\n# Investigate Spctrum Binning ms_matplotlib\n\nHere we use a dummy spectrum example to investigate spectrum binning. \n"
      ]
    },
    {
      "cell_type": "code",
      "execution_count": null,
      "metadata": {
        "collapsed": false
      },
      "outputs": [],
      "source": [
        "import pandas as pd\nimport matplotlib.pyplot as plt\nimport requests\nfrom io import StringIO\n\npd.options.plotting.backend = \"ms_matplotlib\"\n\n# download the file for example plotting\nurl = (\n    \"https://github.com/OpenMS/pyopenms_viz/releases/download/v0.1.5/TestSpectrumDf.tsv\"\n)\nresponse = requests.get(url)\nresponse.raise_for_status()  # Check for any HTTP errors\ndf = pd.read_csv(StringIO(response.text), sep=\"\\t\")\n\n# Let's assess the peak binning and create a 4 by 2 subplot to visualize the different methods of binning\nparams_list = [\n    {\"title\": \"Spectrum (Raw)\", \"bin_peaks\": False},\n    {\n        \"title\": \"Spectrum (agg: sum | bin: freedman)\",\n        \"bin_peaks\": \"auto\",\n        \"bin_method\": \"freedman-diaconis\",\n        \"aggregation_method\": \"sum\",\n    },\n    {\n        \"title\": \"Spectrum (agg: mean | bin: freedman)\",\n        \"bin_peaks\": \"auto\",\n        \"bin_method\": \"freedman-diaconis\",\n        \"aggregation_method\": \"mean\",\n    },\n    {\n        \"title\": \"Spectrum (agg: sum | bin: mz-tol-bin=1)\",\n        \"bin_peaks\": \"auto\",\n        \"bin_method\": \"mz-tol-bin\",\n        \"mz_tol\": 1,\n        \"aggregation_method\": \"sum\",\n    },\n    {\n        \"title\": \"Spectrum (agg: mean | bin: mz-tol-bin=1)\",\n        \"bin_peaks\": \"auto\",\n        \"bin_method\": \"mz-tol-bin\",\n        \"mz_tol\": 1,\n        \"aggregation_method\": \"mean\",\n    },\n    {\n        \"title\": \"Spectrum (agg: max | bin: mz-tol-bin=1)\",\n        \"bin_peaks\": \"auto\",\n        \"bin_method\": \"mz-tol-bin\",\n        \"mz_tol\": 1,\n        \"aggregation_method\": \"max\",\n    },\n    {\n        \"title\": \"Spectrum (agg: max | bin: mz-tol-bin=1pct-diff)\",\n        \"bin_peaks\": \"auto\",\n        \"bin_method\": \"mz-tol-bin\",\n        \"mz_tol\": \"1pct-diff\",\n        \"aggregation_method\": \"max\",\n    },\n    {\n        \"title\": \"Spectrum (agg: max | bin: mz-tol-bin=freedman-diaconis)\",\n        \"bin_peaks\": \"auto\",\n        \"bin_method\": \"mz-tol-bin\",\n        \"mz_tol\": \"freedman-diaconis\",\n        \"aggregation_method\": \"max\",\n    },\n]\n\n# Create a 3-row subplot\nfig, axs = plt.subplots(4, 2, figsize=(14, 14))\n\ni = j = 0\nfor params in params_list:\n    p = df.plot(\n        kind=\"spectrum\", x=\"mz\", y=\"intensity\", canvas=axs[i][j], grid=False, show_plot=False, **params\n    )\n    j += 1\n    if j >= 2:  # If we've filled two columns, move to the next row\n        j = 0\n        i += 1\n\nfig.tight_layout()\nplt.show()"
      ]
    }
  ],
  "metadata": {
    "kernelspec": {
      "display_name": "Python 3",
      "language": "python",
      "name": "python3"
    },
    "language_info": {
      "codemirror_mode": {
        "name": "ipython",
        "version": 3
      },
      "file_extension": ".py",
      "mimetype": "text/x-python",
      "name": "python",
      "nbconvert_exporter": "python",
      "pygments_lexer": "ipython3",
      "version": "3.12.10"
    }
  },
  "nbformat": 4,
  "nbformat_minor": 0
}