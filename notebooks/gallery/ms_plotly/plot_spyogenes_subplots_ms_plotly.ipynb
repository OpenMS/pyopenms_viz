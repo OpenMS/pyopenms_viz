{
  "cells": [
    {
      "cell_type": "markdown",
      "metadata": {},
      "source": [
        "\n# Plot Spyogenes subplots ms_plotly\n\nHere we show how we can plot multiple chromatograms across runs together. In this rendering the plot is slightly cut off\n"
      ]
    },
    {
      "cell_type": "code",
      "execution_count": null,
      "metadata": {
        "collapsed": false
      },
      "outputs": [],
      "source": [
        "import pandas as pd\nimport requests\nimport zipfile\nimport numpy as np\nfrom plotly.subplots import make_subplots\n\n###### Load/Download Data #######\n\n# URL of the zip file\nurl = \"https://github.com/OpenMS/pyopenms_viz/releases/download/v0.1.3/spyogenes.zip\"\nzip_filename = \"spyogenes.zip\"\n\n# Download the zip file\ntry:\n    print(f\"Downloading {zip_filename}...\")\n    response = requests.get(url)\n    response.raise_for_status()  # Check for any HTTP errors\n\n    # Save the zip file to the current directory\n    with open(zip_filename, \"wb\") as out:\n        out.write(response.content)\n    print(f\"Downloaded {zip_filename} successfully.\")\nexcept requests.RequestException as e:\n    print(f\"Error downloading zip file: {e}\")\nexcept IOError as e:\n    print(f\"Error writing zip file: {e}\")\n\n# Unzipping the file\ntry:\n    with zipfile.ZipFile(zip_filename, \"r\") as zip_ref:\n        # Extract all files to the current directory\n        zip_ref.extractall()\n        print(\"Unzipped files successfully.\")\nexcept zipfile.BadZipFile as e:\n    print(f\"Error unzipping file: {e}\")\n\nannotation_bounds = pd.read_csv(\n    \"spyogenes/AADGQTVSGGSILYR3_manual_annotations.tsv\", sep=\"\\t\"\n)  # contain annotations across all runs\nchrom_df = pd.read_csv(\n    \"spyogenes/chroms_AADGQTVSGGSILYR3.tsv\", sep=\"\\t\"\n)  # contains chromatogram for precursor across all runs\n\n##### Set Plotting Variables #####\npd.options.plotting.backend = \"ms_plotly\"\nRUN_NAMES = [\n    \"Run #0 Spyogenes 0% human plasma\",\n    \"Run #1 Spyogenes 0% human plasma\",\n    \"Run #2 Spyogenes 0% human plasma\",\n    \"Run #3 Spyogenes 10% human plasma\",\n    \"Run #4 Spyogenes 10% human plasma\",\n    \"Run #5 Spyogenes 10% human plasma\",\n]\n\n# For each run fill in the axs object with the corresponding chromatogram\nplot_list = []\nfor i, run in enumerate(RUN_NAMES):\n    run_df = chrom_df[chrom_df[\"run_name\"] == run]\n    current_bounds = annotation_bounds[annotation_bounds[\"run\"] == run]\n\n    plot_list.append(\n        run_df.plot(\n            kind=\"chromatogram\",\n            x=\"rt\",\n            y=\"int\",\n            grid=False,\n            by=\"ion_annotation\",\n            width=700,\n            xaxis_label_font_size=16,\n            yaxis_label_font_size=16,\n            xaxis_tick_font_size=14,\n            yaxis_tick_font_size=14,\n            relative_intensity=True,\n            annotation_data=current_bounds,\n            xlabel=\"Retention Time (sec)\",\n            ylabel=\"Relative\\nIntensity\",\n            show_plot=False,\n            legend_config={\"show\": True, \"title\": \"Transition\"},\n        )\n    )\n\n# Combine all plots into plotly subplot\nfig = make_subplots(rows=len(plot_list), cols=1, subplot_titles=RUN_NAMES)\nfor idx, f in enumerate(plot_list):\n    for trace in f.data:\n        fig.add_trace(trace, row=idx + 1, col=1)\n\nfig"
      ]
    }
  ],
  "metadata": {
    "kernelspec": {
      "display_name": "Python 3",
      "language": "python",
      "name": "python3"
    },
    "language_info": {
      "codemirror_mode": {
        "name": "ipython",
        "version": 3
      },
      "file_extension": ".py",
      "mimetype": "text/x-python",
      "name": "python",
      "nbconvert_exporter": "python",
      "pygments_lexer": "ipython3",
      "version": "3.12.11"
    }
  },
  "nbformat": 4,
  "nbformat_minor": 0
}