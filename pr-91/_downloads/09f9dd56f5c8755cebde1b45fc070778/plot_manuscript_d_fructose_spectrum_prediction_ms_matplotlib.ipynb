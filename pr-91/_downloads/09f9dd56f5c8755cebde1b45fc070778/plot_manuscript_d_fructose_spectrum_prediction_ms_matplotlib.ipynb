{
  "cells": [
    {
      "cell_type": "markdown",
      "metadata": {},
      "source": [
        "\n# Manuscript d Fructose Example ms_matplotlib\n\nThis shows the code required to plot the d-fructose example in the manuscript. \nThe mzML file is from the the [Human Metabolome Database (ID: HMDB0000660)](https://hmdb.ca/spectra/ms_ms/902)\n\nThis entry contains an annotated spectrum:\n\n.. list-table::\n   :header-rows: 1\n   :align: center\n\n   * - mz\n     - formula\n     - SMILES\n   * - 45.0\n     - CHO2\n     - C(=O)O\n   * - 61.0\n     - C2H5O2\n     - CC(=O)O\n   * - 73.0\n     - C2HO3\n     - O=CC(=O)O\n   * - 75.0\n     - C2H3O3\n     - OCC(=O)O\n   * - 87.0\n     - C3H3O3\n     - O=CC(=O)CO\n \nTo generate a prediction using [CFM-ID](https://cfmid.wishartlab.com/), you can use the SMILE or InChi key. This example used the SMILE.\n \nSMILE: OC[C@H]1OC@(CO)C@@H[C@@H]1O InChi: InChI=1S/C6H12O6/c7-1-2-3(8)4(9)5(10)6(11)12-2/h2-11H,1H2/t2-,3-,4+,5-,6?/m1/s1\n\nFor this tutorial CFM-ID and .mzML file are downloaded  from the pyopenms_viz repository\n"
      ]
    },
    {
      "cell_type": "code",
      "execution_count": null,
      "metadata": {
        "collapsed": false
      },
      "outputs": [],
      "source": [
        "import numpy as np\nimport pandas as pd\n\npd.options.plotting.backend = \"ms_matplotlib\""
      ]
    },
    {
      "cell_type": "markdown",
      "metadata": {},
      "source": [
        "## Download example\n\n"
      ]
    },
    {
      "cell_type": "code",
      "execution_count": null,
      "metadata": {
        "collapsed": false
      },
      "outputs": [],
      "source": [
        "import requests\nimport zipfile\nimport io\n\n# URL of the ZIP file\nurl = \"https://github.com/OpenMS/pyopenms_viz/releases/download/manuscript/d_fructose_example.zip\"\n\n# Download the ZIP file\nresponse = requests.get(url)\nresponse.raise_for_status()  # Check for request errors\n\n# Unzip the content\nwith zipfile.ZipFile(io.BytesIO(response.content)) as zip_file:\n    zip_file.extractall(\"d_fructose_example\")  # Extract to a directory\n    print(\"Files extracted to 'd_fructose_example'\")"
      ]
    },
    {
      "cell_type": "markdown",
      "metadata": {},
      "source": [
        "## Helper Functions\nWe will need to define the following helper methods below to help format/extract data and generate the molecular chemical drawings.\n\n"
      ]
    },
    {
      "cell_type": "code",
      "execution_count": null,
      "metadata": {
        "collapsed": false
      },
      "outputs": [],
      "source": [
        "# Utility to import RDKit modules and disable logging"
      ]
    },
    {
      "cell_type": "markdown",
      "metadata": {},
      "source": [
        "```bash\n%%bash\npip install rdkit --quiet\n```\n"
      ]
    },
    {
      "cell_type": "code",
      "execution_count": null,
      "metadata": {
        "collapsed": false
      },
      "outputs": [],
      "source": [
        "import importlib\nfrom PIL import Image, ImageOps\nimport rdkit.RDLogger as RDLogger\nfrom rdkit.Chem.Draw import rdMolDraw2D\nfrom rdkit import Chem\nfrom rdkit.Chem import rdMolDescriptors\nimport cairosvg\nimport io\nimport re\nfrom typing import Tuple, Union, List\n\n\ndef rdkit_import(*module_strs: List[str]) -> Tuple:\n    \"\"\"Utility function to import RDKit modules and disable RDKit logging.\"\"\"\n    RDLogger.DisableLog(\"rdApp.*\")\n    return tuple(importlib.import_module(mod) for mod in module_strs)\n\n\ndef trim_img_by_white(img: Image.Image, padding: int = 0) -> Image.Image:\n    \"\"\"Crops the image to remove excess white space and adds padding.\"\"\"\n    as_array = np.array(img)\n    assert as_array.ndim == 3 and as_array.shape[2] == 3, as_array.shape\n\n    # Find non-white regions\n    has_content = np.sum(as_array, axis=2, dtype=np.uint32) != 255 * 3\n    xs, ys = np.nonzero(has_content)\n\n    # Crop and pad\n    x_range = max(min(xs) - 5, 0), min(max(xs) + 5, as_array.shape[0])\n    y_range = max(min(ys) - 5, 0), min(max(ys) + 5, as_array.shape[1])\n    cropped_img = as_array[x_range[0] : x_range[1], y_range[0] : y_range[1], :3]\n\n    img_cropped = Image.fromarray(cropped_img, mode=\"RGB\")\n    return ImageOps.expand(img_cropped, border=padding, fill=(255, 255, 255))\n\n\ndef mol_from_smiles(smiles: str, standardize: bool = False) -> Union[Chem.Mol, None]:\n    \"\"\"Converts a SMILES string to an RDKit molecule.\"\"\"\n    Chem = rdkit_import(\"rdkit.Chem\")[0]\n    try:\n        mol = Chem.MolFromSmiles(smiles)\n        if mol and standardize:\n            mol = rdkit_standardize(mol)\n        return mol\n    except Exception as e:\n        print(f\"Error converting SMILES to Mol: {e}\")\n        return None\n\n\ndef get_mol_im(smiles: str, width: int = 400, height: int = 200) -> Image.Image:\n    \"\"\"Generates an image of the molecule from its SMILES string.\"\"\"\n    mol = mol_from_smiles(smiles)\n    if mol:\n        d = rdMolDraw2D.MolDraw2DSVG(width, height)\n        d.DrawMolecule(mol)\n        d.FinishDrawing()\n        svg_buf = d.GetDrawingText()\n\n        png_buf = cairosvg.svg2png(bytestring=svg_buf)\n        im = Image.open(io.BytesIO(png_buf))\n        return trim_img_by_white(im, padding=15)\n    else:\n        return None\n\n\ndef parse_cfm_data(\n    file_path: str, energy_section: str\n) -> Tuple[pd.DataFrame, pd.DataFrame]:\n    \"\"\"Parses CFM data for a specific energy section.\"\"\"\n    with open(file_path, \"r\") as file:\n        lines = file.readlines()\n\n    mz_data, annotation_data = [], []\n    capture_data, capture_annotations = False, False\n\n    # Regex patterns\n    energy_pattern = re.compile(f\"^{energy_section}$\")\n    mz_pattern = re.compile(r\"^(\\d+\\.\\d+)\\s+([\\d\\.]+)\\s+([\\d\\s]+)\\s+\\(([\\d\\s\\.]+)\\)$\")\n    annotation_pattern = re.compile(r\"^(\\d+)\\s+(\\d+\\.\\d+)\\s+(\\S+)(?:\\s+(.+))?$\")\n\n    for line in lines:\n        line = line.strip()\n        if energy_pattern.match(line):\n            capture_data = True\n            continue\n\n        if capture_data and (line == \"\" or line.startswith(\"energy\")):\n            capture_data = False\n            capture_annotations = True\n            continue\n\n        if capture_data:\n            match = mz_pattern.match(line)\n            if match:\n                mz, rel_int, frag_id, probabilities = match.groups()\n                mz_data.append(\n                    [float(mz), float(rel_int), frag_id.strip(), probabilities.strip()]\n                )\n\n        if capture_annotations:\n            match = annotation_pattern.match(line)\n            if match:\n                frag_id, mz, smiles, note = match.groups()\n                annotation_data.append([int(frag_id), float(mz), smiles, note])\n\n    mz_df = pd.DataFrame(mz_data, columns=[\"mz\", \"int\", \"frag_id\", \"probabilities\"])\n    annotation_df = pd.DataFrame(\n        annotation_data, columns=[\"frag_id\", \"mz\", \"SMILES\", \"note\"]\n    )\n\n    return mz_df, annotation_df\n\n\ndef explode_frag_ids_probabilities(df: pd.DataFrame) -> pd.DataFrame:\n    \"\"\"Explodes the 'frag_id' and 'probabilities' columns into multiple rows.\"\"\"\n    df = df.copy()\n    df[\"frag_id\"] = df[\"frag_id\"].str.split()\n    df[\"probabilities\"] = (\n        df[\"probabilities\"].str.split().apply(lambda x: [float(p) for p in x])\n    )\n\n    return df.explode([\"frag_id\", \"probabilities\"]).astype({\"frag_id\": int})\n\n\ndef smiles_to_formula(smiles: str) -> Union[str, None]:\n    \"\"\"Converts a SMILES string to a molecular formula.\"\"\"\n    try:\n        mol = Chem.MolFromSmiles(smiles)\n        return rdMolDescriptors.CalcMolFormula(mol) if mol else None\n    except Exception as e:\n        print(f\"Error converting SMILES to formula: {e}\")\n        return None\n\n\ndef format_formula(formula: str) -> str:\n    \"\"\"Formats a molecular formula by replacing numbers with subscripts and handling charges.\"\"\"\n    if isinstance(formula, str):\n        # Function to replace numbers with their subscript version\n        def replace_with_subscript(match):\n            return f\"_{{{match.group()}}}\"\n\n        # Replace numbers with their subscript versions\n        formatted = re.sub(r\"\\d+\", replace_with_subscript, formula)\n\n        # Replace '+' and '-' with superscript versions\n        formatted = formatted.replace(\"+\", \"^+\").replace(\"-\", \"^-\")\n\n        return formatted\n    else:\n        return formula"
      ]
    },
    {
      "cell_type": "markdown",
      "metadata": {},
      "source": [
        "## Load and Format Data\nLoad .mzML using pymzml\n~~~~~~~~~~~~~~~~~~~~~~~\n\n"
      ]
    },
    {
      "cell_type": "code",
      "execution_count": null,
      "metadata": {
        "collapsed": false
      },
      "outputs": [],
      "source": [
        "import pymzml\n\n# Load the known annotated SMILES and formula into a dataframe\ndata = {\n    \"mz\": [45.0, 61.0, 73.0, 75.0, 87.0],\n    \"formula\": [\"CHO2\", \"C2H5O2\", \"C2HO3\", \"C2H3O3\", \"C3H3O3\"],\n    \"SMILES\": [\"C(=O)O\", \"CC(=O)O\", \"O=CC(=O)O\", \"OCC(=O)O\", \"O=CC(=O)CO\"],\n}\nann_df = pd.DataFrame(data)\n\n# We can use pymzml to load the spectrum data from the mzML file\n\ninput_file = \"./d_fructose_example/d_fructose_example/D-Fructose_lc_msms.mzML\"\n\nrun = pymzml.run.Reader(input_file)\n# Get the first spec\nspec = run.next()\n# Convert to Pandas DataFrame\ndf = pd.DataFrame(spec.centroidedPeaks).rename(columns={0: \"mz\", 1: \"int\"})\ndf[\"rel_int\"] = df[\"int\"] / df[\"int\"].max() * 100\ndf[\"color_peak\"] = \"#1b9e77\"\ni = 1\nfor mz in df[\"mz\"]:\n    if np.floor(mz) in ann_df[\"mz\"].values:\n        # print(f\"{ann_df[['mz']].isin([mz]).values.flatten()}\")\n        df.loc[df.mz == mz, [\"custom_annotation\"]] = ann_df.loc[\n            ann_df[[\"mz\"]].isin([mz]).values.flatten(), [\"formula\"]\n        ].values[0][0]\n        # Apply the formatting function to the 'formula' column\n        df.loc[df.mz == mz, [\"custom_annotation\"]] = df.loc[df.mz == mz][\n            \"custom_annotation\"\n        ].apply(format_formula)\n        i += 1\n# replace the NaN values with empty strings in custom_annotation column\ndf[\"custom_annotation\"] = df[\"custom_annotation\"].fillna(\"\")\ndf.head()"
      ]
    },
    {
      "cell_type": "markdown",
      "metadata": {},
      "source": [
        "### Load CFM-ID\nFor CFM-ID, you need to save the predictions out to a txt file using their export option. In this case, the prediction is saved to \"cfm_d_fructose_inchi_prediction.txt\". The energy2 prediction corresponds to the 40V collision energy of our downloaded real spectrum.\n\n"
      ]
    },
    {
      "cell_type": "code",
      "execution_count": null,
      "metadata": {
        "collapsed": false
      },
      "outputs": [],
      "source": [
        "pred_df, annotation_df = parse_cfm_data(\n    \"./d_fructose_example/d_fructose_example/cfm_prediction/cfm_d_fructose_smile_prediction.txt\",\n    \"energy2\",\n)\npred_df[\"rel_int\"] = pred_df[\"int\"] / pred_df[\"int\"].max() * 100\npred_df_long = explode_frag_ids_probabilities(pred_df)\npred_df[\"color_peak\"] = \"#d95f02\"\ni = 1\nfor mz in pred_df[\"mz\"]:\n    if np.floor(mz) in ann_df[\"mz\"].values:\n        pred_df.loc[pred_df.mz == mz, [\"custom_annotation\"]] = f\"f{i}\"\n        i += 1\n\n\n# We also want to create a dataframe with the predictions for each fragment ion with their corresponding probabilities.\npred_ann_df = annotation_df[\n    (annotation_df[\"frag_id\"].isin(pred_df_long.frag_id.values.tolist()))\n]\n# Apply the function to the SMILES column to create a new column 'formula'\npred_ann_df[\"formula\"] = pred_ann_df[\"SMILES\"].apply(smiles_to_formula)\npred_ann_df = pred_ann_df = pred_ann_df.loc[\n    pred_ann_df[\"mz\"].isin(pred_df.dropna().mz.values.tolist())\n]\npred_ann_df.sort_values(\"mz\", inplace=True)\npred_ann_df = pd.merge(pred_ann_df, pred_df_long, on=[\"frag_id\", \"mz\"], how=\"inner\")\npred_ann_df.sort_values([\"mz\", \"probabilities\"], inplace=True, ascending=[True, False])\n# Apply the formatting function to the 'formula' column\npred_ann_df[\"formatted_formula\"] = pred_ann_df[\"formula\"].apply(format_formula)"
      ]
    },
    {
      "cell_type": "markdown",
      "metadata": {},
      "source": [
        "## Create Figure\n\n"
      ]
    },
    {
      "cell_type": "code",
      "execution_count": null,
      "metadata": {
        "collapsed": false
      },
      "outputs": [],
      "source": [
        "import matplotlib.pyplot as plt\nimport matplotlib.patches as patches\nfrom mpl_toolkits.axes_grid1.inset_locator import inset_axes\n\nfig = plt.figure(figsize=(19, 9), dpi=300)\n\n# Create the gridspec layout: 1 row and 2 columns, with larger space on the left\ngs = fig.add_gridspec(1, 2, width_ratios=[2.5, 2], wspace=0.05)\n\n# Create the main spectrum subplot\nax1 = fig.add_subplot(gs[0, 0])\n\n# Plot Mass Spectrum\np = df.plot(\n    kind=\"spectrum\",\n    x=\"mz\",\n    y=\"rel_int\",\n    title=\"D-Fructose\",\n    ylabel=\"Relative Intensity\",\n    bin_peaks=False,\n    reference_spectrum=pred_df[[\"mz\", \"rel_int\", \"color_peak\"]].assign(\n        custom_annotation=\"\"\n    ),\n    mirror_spectrum=True,\n    annotate_mz=False,\n    annotate_top_n_peaks=\"all\",\n    #  annotation_color=\"color_annotation\",\n    custom_annotation=\"custom_annotation\",\n    peak_color=\"color_peak\",\n    annotation_font_size=16,\n    xaxis_label_font_size=20,\n    yaxis_label_font_size=20,\n    width=1000,\n    height=700,\n    grid=False,\n    canvas=ax1,\n)\nax1.set_xlim([39, 183])\nax1.set_ylim(-105, 105)\n# Customize the y-axis ticks and labels\ny_ticks = ax1.get_yticks()\nax1.set_yticks(y_ticks)\nax1.set_yticklabels([f\"{abs(y):.0f}\" for y in y_ticks])\n# Update the title, xlabel, and ylabel\nax1.set_title(\"D-Fructose\", fontsize=22)\nax1.set_xlabel(\"mass-to-charge\", fontsize=20)\nax1.set_ylabel(\"Relative Intensity\", fontsize=20)\n# Update axis tick labels\nax1.tick_params(axis=\"x\", labelsize=18)\nax1.tick_params(axis=\"y\", labelsize=18)\n\nfont_size = 16\nleg_font_size = 0.9 * font_size\nleg_kws = {\"ncol\": 1, \"fontsize\": leg_font_size, \"loc\": \"upper left\"}\nhandles = [\n    patches.Patch(facecolor=\"#1b9e77\", label=\"Real\", alpha=1.0),\n    patches.Patch(facecolor=\"#d95f02\", label=\"Predicted\", alpha=1.0),\n]\nleg = ax1.legend(handles=handles, **leg_kws)\n\nmol_im = get_mol_im(\"OC[C@H]1O[C@](O)(CO)[C@@H](O)[C@@H]1O\", 600, 500)\nmol_im_arr = np.array(mol_im)\n# Create an inset axes in the top right corner\naxins = inset_axes(\n    ax1,\n    width=\"40%\",  # width = 30% of parent_bbox\n    height=\"40%\",  # height : 30%\n    loc=\"upper right\",\n)\n\n# Display the molecular image in the inset\naxins.imshow(mol_im_arr)\naxins.axis(\"off\")  # Turn off axis labels\n\n\n## Add predicted annotations\n\n# Sort the DataFrame by m/z values\npred_df_sorted = pred_df.sort_values(\"mz\").dropna()\n\n# Define your custom shifts\nx_shifts = [0, 0, -6, 10, 0]\ny_shifts = [0, 0, 0, 0, 0]\n\n# Base offsets\nbase_x_offset = -7\nbase_y_offset = -25\n\nfor i, row in enumerate(pred_df_sorted.itertuples(index=False)):\n    mz, intensity, frag_id, probabilities, y, color_peak, text = row\n\n    # Get the custom shifts for this annotation\n    x_shift = x_shifts[i] if i < len(x_shifts) else 0\n    y_shift = y_shifts[i] if i < len(y_shifts) else 0\n\n    # Calculate the final offsets\n    x_offset = base_x_offset + x_shift\n    y_offset = base_y_offset + y_shift\n\n    # Add the annotation\n    ax1.annotate(\n        text,\n        xy=(mz, -y),  # The point to annotate\n        xytext=(x_offset, y_offset),\n        textcoords=\"offset points\",\n        fontsize=17,\n        color=\"white\",\n        bbox={\"boxstyle\": \"circle\", \"color\": \"#d95f02\", \"fc\": \"#e57f1d\"},\n        arrowprops=dict(facecolor=\"grey\"),\n    )\n\n\n# Right side: use gridspec with rows based on unique m/z values and 4 columns (1 for annotation, 3 for molecules)\nunique_mz = pred_ann_df[\"mz\"].unique()\nnum_rows = len(unique_mz)\ngs_right = gs[0, 1].subgridspec(\n    num_rows, 4, width_ratios=[2.5, 3, 3, 3]\n)  # Increased width for annotation column\ni = 1\n\n# Create subplots in the grid on the right\nfor row, mz in enumerate(unique_mz):\n    mz_df = pred_ann_df[pred_ann_df[\"mz\"] == mz]\n\n    # Add annotation column\n    ax_annot = fig.add_subplot(gs_right[row, 0])\n\n    # Add circular f# annotation\n    ax_annot.annotate(\n        f\"f{i}\",\n        xy=(0.1, 0.5),\n        xycoords=\"axes fraction\",\n        fontsize=17,\n        color=\"white\",\n        bbox={\"boxstyle\": \"circle\", \"color\": \"#d95f02\", \"fc\": \"#e57f1d\"},\n    )\n\n    # Add formula annotation\n    ax_annot.text(\n        0.5,\n        0.5,\n        r\"${}$\".format(mz_df.iloc[0][\"formatted_formula\"]),\n        ha=\"left\",\n        va=\"center\",\n        fontsize=20,\n    )\n\n    ax_annot.axis(\"off\")\n\n    # Add molecule images\n    for col, (idx, row_data) in enumerate(mz_df.iterrows()):\n        if col < 3:  # Limit to 3 columns\n            ax = fig.add_subplot(gs_right[row, col + 1])\n            mol_im = get_mol_im(row_data[\"SMILES\"], 200, 100)\n            mol_im_arr = np.array(mol_im)\n            ax.imshow(mol_im_arr)\n\n            # Add probability text below the molecule\n            prob = row_data[\"probabilities\"]\n            ax.text(\n                0.5,\n                -0.1,\n                f\"Score: {prob:.4f}\",\n                transform=ax.transAxes,\n                ha=\"center\",\n                va=\"top\",\n                fontsize=18,\n            )\n\n            ax.axis(\"off\")\n    i += 1\n\n\nfig.tight_layout()\nfig"
      ]
    }
  ],
  "metadata": {
    "kernelspec": {
      "display_name": "Python 3",
      "language": "python",
      "name": "python3"
    },
    "language_info": {
      "codemirror_mode": {
        "name": "ipython",
        "version": 3
      },
      "file_extension": ".py",
      "mimetype": "text/x-python",
      "name": "python",
      "nbconvert_exporter": "python",
      "pygments_lexer": "ipython3",
      "version": "3.12.11"
    }
  },
  "nbformat": 4,
  "nbformat_minor": 0
}