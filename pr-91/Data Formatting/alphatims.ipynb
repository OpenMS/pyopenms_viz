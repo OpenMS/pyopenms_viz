{
 "cells": [
  {
   "cell_type": "markdown",
   "id": "cca688da-ecff-4c16-95c3-df7c3585f06f",
   "metadata": {},
   "source": [
    "# alphatims"
   ]
  },
  {
   "cell_type": "raw",
   "id": "3d02fe77-26a8-45dc-9056-078449b074a7",
   "metadata": {
    "editable": true,
    "raw_mimetype": "text/html",
    "slideshow": {
     "slide_type": ""
    },
    "tags": []
   },
   "source": [
    "<a href=\"https://notebooks.gesis.org/binder/v2/gh/OpenMS/pyopenms_viz/main?filepath=docs/Data Formatting/alphatims.ipynb\" target=\"_blank\">\n",
    "    <img src=\"https://mybinder.org/badge_logo.svg\" alt=\"Launch on Binder\" style=\"width: 150px;\"/>\n",
    "</a>\n",
    "<br></br>"
   ]
  },
  {
   "cell_type": "markdown",
   "id": "36e0c3b8-9a13-4aa9-8284-b9b181a46da8",
   "metadata": {},
   "source": [
    "## Install alphatims"
   ]
  },
  {
   "cell_type": "code",
   "execution_count": 1,
   "id": "ff13c59a-c8fa-4342-83bd-b83380e5a0d1",
   "metadata": {
    "execution": {
     "iopub.execute_input": "2025-08-01T15:34:32.672530Z",
     "iopub.status.busy": "2025-08-01T15:34:32.672259Z",
     "iopub.status.idle": "2025-08-01T15:34:38.703616Z",
     "shell.execute_reply": "2025-08-01T15:34:38.702923Z"
    }
   },
   "outputs": [
    {
     "name": "stdout",
     "output_type": "stream",
     "text": [
      "\r\n",
      "\u001b[1m[\u001b[0m\u001b[34;49mnotice\u001b[0m\u001b[1;39;49m]\u001b[0m\u001b[39;49m A new release of pip is available: \u001b[0m\u001b[31;49m25.1.1\u001b[0m\u001b[39;49m -> \u001b[0m\u001b[32;49m25.2\u001b[0m\r\n",
      "\u001b[1m[\u001b[0m\u001b[34;49mnotice\u001b[0m\u001b[1;39;49m]\u001b[0m\u001b[39;49m To update, run: \u001b[0m\u001b[32;49mpip install --upgrade pip\u001b[0m\r\n"
     ]
    }
   ],
   "source": [
    "!pip install alphatims --quiet"
   ]
  },
  {
   "cell_type": "markdown",
   "id": "5c907cc2-c11c-499a-8659-a36b02c3ac1e",
   "metadata": {},
   "source": [
    "## Download test data"
   ]
  },
  {
   "cell_type": "code",
   "execution_count": 2,
   "id": "1816af2a-32f1-4967-9f71-351dd72bcb8a",
   "metadata": {
    "execution": {
     "iopub.execute_input": "2025-08-01T15:34:38.706010Z",
     "iopub.status.busy": "2025-08-01T15:34:38.705782Z",
     "iopub.status.idle": "2025-08-01T15:34:43.941035Z",
     "shell.execute_reply": "2025-08-01T15:34:43.940342Z"
    }
   },
   "outputs": [
    {
     "name": "stdout",
     "output_type": "stream",
     "text": [
      "File 20201207_tims03_Evo03_PS_SA_HeLa_200ng_EvoSep_prot_DDA_21min_8cm_S1-C10_1_22476.d.zip downloaded successfully!\n"
     ]
    },
    {
     "name": "stdout",
     "output_type": "stream",
     "text": [
      "File extracted to ./!\n",
      "Zip file 20201207_tims03_Evo03_PS_SA_HeLa_200ng_EvoSep_prot_DDA_21min_8cm_S1-C10_1_22476.d.zip removed.\n"
     ]
    }
   ],
   "source": [
    "import requests\n",
    "import zipfile\n",
    "import os\n",
    "\n",
    "# # Define the URL and file name\n",
    "url = 'https://github.com/MannLabs/alphatims/releases/download/0.1.210317/20201207_tims03_Evo03_PS_SA_HeLa_200ng_EvoSep_prot_DDA_21min_8cm_S1-C10_1_22476.d.zip'\n",
    "file_name = '20201207_tims03_Evo03_PS_SA_HeLa_200ng_EvoSep_prot_DDA_21min_8cm_S1-C10_1_22476.d.zip'\n",
    "extract_dir = './'  # Directory to extract the contents\n",
    "\n",
    "# # Download the file\n",
    "response = requests.get(url)\n",
    "with open(file_name, 'wb') as file:\n",
    "    file.write(response.content)\n",
    "\n",
    "print(f'File {file_name} downloaded successfully!')\n",
    "\n",
    "# Unzip the file\n",
    "with zipfile.ZipFile(file_name, 'r') as zip_ref:\n",
    "    zip_ref.extractall(extract_dir)\n",
    "\n",
    "print(f'File extracted to {extract_dir}!')\n",
    "\n",
    "# Optionally, remove the zip file after extraction\n",
    "os.remove(file_name)\n",
    "print(f'Zip file {file_name} removed.')"
   ]
  },
  {
   "cell_type": "markdown",
   "id": "5d600e03-aa37-49ed-9b77-2372f0d8b177",
   "metadata": {},
   "source": [
    "## Load `.d` File and Extra a section of it as a `pd.DataFrame`"
   ]
  },
  {
   "cell_type": "code",
   "execution_count": 3,
   "id": "b292914a-87aa-452b-b2c9-c982da0ce8c6",
   "metadata": {
    "execution": {
     "iopub.execute_input": "2025-08-01T15:34:43.943133Z",
     "iopub.status.busy": "2025-08-01T15:34:43.942919Z",
     "iopub.status.idle": "2025-08-01T15:34:53.635914Z",
     "shell.execute_reply": "2025-08-01T15:34:53.635243Z"
    }
   },
   "outputs": [
    {
     "name": "stderr",
     "output_type": "stream",
     "text": [
      "/opt/hostedtoolcache/Python/3.12.11/x64/lib/python3.12/site-packages/alphatims/bruker.py:246: FutureWarning: ChainedAssignmentError: behaviour will change in pandas 3.0!\n",
      "You are setting values through chained assignment. Currently this works in certain cases, but when using Copy-on-Write (which will become the default behaviour in pandas 3.0) this will never work to update the original DataFrame or Series, because the intermediate object on which we are setting values will behave as a copy.\n",
      "A typical example is when you are setting values in a column of a DataFrame, like:\n",
      "\n",
      "df[\"col\"][row_indexer] = value\n",
      "\n",
      "Use `df.loc[row_indexer, \"col\"] = values` instead, to perform the assignment in a single step and ensure this keeps updating the original `df`.\n",
      "\n",
      "See the caveats in the documentation: https://pandas.pydata.org/pandas-docs/stable/user_guide/indexing.html#returning-a-view-versus-a-copy\n",
      "\n",
      "  frames.Id[0] = 0\n",
      "/opt/hostedtoolcache/Python/3.12.11/x64/lib/python3.12/site-packages/alphatims/bruker.py:247: FutureWarning: ChainedAssignmentError: behaviour will change in pandas 3.0!\n",
      "You are setting values through chained assignment. Currently this works in certain cases, but when using Copy-on-Write (which will become the default behaviour in pandas 3.0) this will never work to update the original DataFrame or Series, because the intermediate object on which we are setting values will behave as a copy.\n",
      "A typical example is when you are setting values in a column of a DataFrame, like:\n",
      "\n",
      "df[\"col\"][row_indexer] = value\n",
      "\n",
      "Use `df.loc[row_indexer, \"col\"] = values` instead, to perform the assignment in a single step and ensure this keeps updating the original `df`.\n",
      "\n",
      "See the caveats in the documentation: https://pandas.pydata.org/pandas-docs/stable/user_guide/indexing.html#returning-a-view-versus-a-copy\n",
      "\n",
      "  frames.Time[0] = 0\n",
      "/opt/hostedtoolcache/Python/3.12.11/x64/lib/python3.12/site-packages/alphatims/bruker.py:248: FutureWarning: ChainedAssignmentError: behaviour will change in pandas 3.0!\n",
      "You are setting values through chained assignment. Currently this works in certain cases, but when using Copy-on-Write (which will become the default behaviour in pandas 3.0) this will never work to update the original DataFrame or Series, because the intermediate object on which we are setting values will behave as a copy.\n",
      "A typical example is when you are setting values in a column of a DataFrame, like:\n",
      "\n",
      "df[\"col\"][row_indexer] = value\n",
      "\n",
      "Use `df.loc[row_indexer, \"col\"] = values` instead, to perform the assignment in a single step and ensure this keeps updating the original `df`.\n",
      "\n",
      "See the caveats in the documentation: https://pandas.pydata.org/pandas-docs/stable/user_guide/indexing.html#returning-a-view-versus-a-copy\n",
      "\n",
      "  frames.MaxIntensity[0] = 0\n",
      "/opt/hostedtoolcache/Python/3.12.11/x64/lib/python3.12/site-packages/alphatims/bruker.py:249: FutureWarning: ChainedAssignmentError: behaviour will change in pandas 3.0!\n",
      "You are setting values through chained assignment. Currently this works in certain cases, but when using Copy-on-Write (which will become the default behaviour in pandas 3.0) this will never work to update the original DataFrame or Series, because the intermediate object on which we are setting values will behave as a copy.\n",
      "A typical example is when you are setting values in a column of a DataFrame, like:\n",
      "\n",
      "df[\"col\"][row_indexer] = value\n",
      "\n",
      "Use `df.loc[row_indexer, \"col\"] = values` instead, to perform the assignment in a single step and ensure this keeps updating the original `df`.\n",
      "\n",
      "See the caveats in the documentation: https://pandas.pydata.org/pandas-docs/stable/user_guide/indexing.html#returning-a-view-versus-a-copy\n",
      "\n",
      "  frames.SummedIntensities[0] = 0\n",
      "/opt/hostedtoolcache/Python/3.12.11/x64/lib/python3.12/site-packages/alphatims/bruker.py:250: FutureWarning: ChainedAssignmentError: behaviour will change in pandas 3.0!\n",
      "You are setting values through chained assignment. Currently this works in certain cases, but when using Copy-on-Write (which will become the default behaviour in pandas 3.0) this will never work to update the original DataFrame or Series, because the intermediate object on which we are setting values will behave as a copy.\n",
      "A typical example is when you are setting values in a column of a DataFrame, like:\n",
      "\n",
      "df[\"col\"][row_indexer] = value\n",
      "\n",
      "Use `df.loc[row_indexer, \"col\"] = values` instead, to perform the assignment in a single step and ensure this keeps updating the original `df`.\n",
      "\n",
      "See the caveats in the documentation: https://pandas.pydata.org/pandas-docs/stable/user_guide/indexing.html#returning-a-view-versus-a-copy\n",
      "\n",
      "  frames.NumPeaks[0] = 0\n",
      "/opt/hostedtoolcache/Python/3.12.11/x64/lib/python3.12/site-packages/alphatims/bruker.py:251: FutureWarning: ChainedAssignmentError: behaviour will change in pandas 3.0!\n",
      "You are setting values through chained assignment. Currently this works in certain cases, but when using Copy-on-Write (which will become the default behaviour in pandas 3.0) this will never work to update the original DataFrame or Series, because the intermediate object on which we are setting values will behave as a copy.\n",
      "A typical example is when you are setting values in a column of a DataFrame, like:\n",
      "\n",
      "df[\"col\"][row_indexer] = value\n",
      "\n",
      "Use `df.loc[row_indexer, \"col\"] = values` instead, to perform the assignment in a single step and ensure this keeps updating the original `df`.\n",
      "\n",
      "See the caveats in the documentation: https://pandas.pydata.org/pandas-docs/stable/user_guide/indexing.html#returning-a-view-versus-a-copy\n",
      "\n",
      "  frames.MsMsType[0] = 0\n"
     ]
    },
    {
     "name": "stderr",
     "output_type": "stream",
     "text": [
      "\r",
      "  0%|          | 0/11886 [00:00<?, ?it/s]"
     ]
    },
    {
     "name": "stderr",
     "output_type": "stream",
     "text": [
      "\r",
      "  0%|          | 1/11886 [00:03<9:59:12,  3.03s/it]"
     ]
    },
    {
     "name": "stderr",
     "output_type": "stream",
     "text": [
      "\r",
      "  5%|▍         | 538/11886 [00:03<00:46, 242.46it/s]"
     ]
    },
    {
     "name": "stderr",
     "output_type": "stream",
     "text": [
      "\r",
      "  9%|▉         | 1098/11886 [00:03<00:19, 566.63it/s]"
     ]
    },
    {
     "name": "stderr",
     "output_type": "stream",
     "text": [
      "\r",
      " 14%|█▍        | 1641/11886 [00:03<00:10, 953.11it/s]"
     ]
    },
    {
     "name": "stderr",
     "output_type": "stream",
     "text": [
      "\r",
      " 18%|█▊        | 2198/11886 [00:03<00:06, 1422.75it/s]"
     ]
    },
    {
     "name": "stderr",
     "output_type": "stream",
     "text": [
      "\r",
      " 23%|██▎       | 2748/11886 [00:03<00:04, 1940.66it/s]"
     ]
    },
    {
     "name": "stderr",
     "output_type": "stream",
     "text": [
      "\r",
      " 27%|██▋       | 3265/11886 [00:03<00:03, 2402.50it/s]"
     ]
    },
    {
     "name": "stderr",
     "output_type": "stream",
     "text": [
      "\r",
      " 32%|███▏      | 3768/11886 [00:03<00:02, 2811.82it/s]"
     ]
    },
    {
     "name": "stderr",
     "output_type": "stream",
     "text": [
      "\r",
      " 36%|███▌      | 4255/11886 [00:03<00:02, 3160.93it/s]"
     ]
    },
    {
     "name": "stderr",
     "output_type": "stream",
     "text": [
      "\r",
      " 40%|███▉      | 4728/11886 [00:03<00:02, 3321.17it/s]"
     ]
    },
    {
     "name": "stderr",
     "output_type": "stream",
     "text": [
      "\r",
      " 44%|████▎     | 5172/11886 [00:04<00:01, 3535.49it/s]"
     ]
    },
    {
     "name": "stderr",
     "output_type": "stream",
     "text": [
      "\r",
      " 47%|████▋     | 5610/11886 [00:04<00:01, 3568.29it/s]"
     ]
    },
    {
     "name": "stderr",
     "output_type": "stream",
     "text": [
      "\r",
      " 51%|█████     | 6026/11886 [00:04<00:01, 3598.31it/s]"
     ]
    },
    {
     "name": "stderr",
     "output_type": "stream",
     "text": [
      "\r",
      " 54%|█████▍    | 6427/11886 [00:04<00:01, 3626.35it/s]"
     ]
    },
    {
     "name": "stderr",
     "output_type": "stream",
     "text": [
      "\r",
      " 57%|█████▋    | 6819/11886 [00:04<00:01, 3572.50it/s]"
     ]
    },
    {
     "name": "stderr",
     "output_type": "stream",
     "text": [
      "\r",
      " 61%|██████    | 7197/11886 [00:04<00:01, 3612.59it/s]"
     ]
    },
    {
     "name": "stderr",
     "output_type": "stream",
     "text": [
      "\r",
      " 64%|██████▍   | 7581/11886 [00:04<00:01, 3673.84it/s]"
     ]
    },
    {
     "name": "stderr",
     "output_type": "stream",
     "text": [
      "\r",
      " 67%|██████▋   | 7960/11886 [00:04<00:01, 3666.53it/s]"
     ]
    },
    {
     "name": "stderr",
     "output_type": "stream",
     "text": [
      "\r",
      " 70%|███████   | 8335/11886 [00:04<00:00, 3660.96it/s]"
     ]
    },
    {
     "name": "stderr",
     "output_type": "stream",
     "text": [
      "\r",
      " 73%|███████▎  | 8710/11886 [00:05<00:00, 3682.53it/s]"
     ]
    },
    {
     "name": "stderr",
     "output_type": "stream",
     "text": [
      "\r",
      " 77%|███████▋  | 9096/11886 [00:05<00:00, 3729.73it/s]"
     ]
    },
    {
     "name": "stderr",
     "output_type": "stream",
     "text": [
      "\r",
      " 80%|███████▉  | 9472/11886 [00:05<00:00, 3707.92it/s]"
     ]
    },
    {
     "name": "stderr",
     "output_type": "stream",
     "text": [
      "\r",
      " 83%|████████▎ | 9863/11886 [00:05<00:00, 3760.76it/s]"
     ]
    },
    {
     "name": "stderr",
     "output_type": "stream",
     "text": [
      "\r",
      " 86%|████████▋ | 10259/11886 [00:05<00:00, 3794.27it/s]"
     ]
    },
    {
     "name": "stderr",
     "output_type": "stream",
     "text": [
      "\r",
      " 90%|█████████ | 10726/11886 [00:05<00:00, 4003.69it/s]"
     ]
    },
    {
     "name": "stderr",
     "output_type": "stream",
     "text": [
      "\r",
      " 94%|█████████▍| 11227/11886 [00:05<00:00, 4256.78it/s]"
     ]
    },
    {
     "name": "stderr",
     "output_type": "stream",
     "text": [
      "\r",
      " 98%|█████████▊| 11662/11886 [00:05<00:00, 4282.12it/s]"
     ]
    },
    {
     "name": "stderr",
     "output_type": "stream",
     "text": [
      "\r",
      "100%|██████████| 11886/11886 [00:05<00:00, 2047.53it/s]"
     ]
    },
    {
     "name": "stderr",
     "output_type": "stream",
     "text": [
      "\n"
     ]
    },
    {
     "data": {
      "text/html": [
       "<div>\n",
       "<style scoped>\n",
       "    .dataframe tbody tr th:only-of-type {\n",
       "        vertical-align: middle;\n",
       "    }\n",
       "\n",
       "    .dataframe tbody tr th {\n",
       "        vertical-align: top;\n",
       "    }\n",
       "\n",
       "    .dataframe thead th {\n",
       "        text-align: right;\n",
       "    }\n",
       "</style>\n",
       "<table border=\"1\" class=\"dataframe\">\n",
       "  <thead>\n",
       "    <tr style=\"text-align: right;\">\n",
       "      <th></th>\n",
       "      <th>raw_indices</th>\n",
       "      <th>frame_indices</th>\n",
       "      <th>scan_indices</th>\n",
       "      <th>precursor_indices</th>\n",
       "      <th>push_indices</th>\n",
       "      <th>tof_indices</th>\n",
       "      <th>rt_values</th>\n",
       "      <th>rt_values_min</th>\n",
       "      <th>mobility_values</th>\n",
       "      <th>quad_low_mz_values</th>\n",
       "      <th>quad_high_mz_values</th>\n",
       "      <th>mz_values</th>\n",
       "      <th>intensity_values</th>\n",
       "      <th>corrected_intensity_values</th>\n",
       "    </tr>\n",
       "  </thead>\n",
       "  <tbody>\n",
       "    <tr>\n",
       "      <th>0</th>\n",
       "      <td>0</td>\n",
       "      <td>1</td>\n",
       "      <td>52</td>\n",
       "      <td>0</td>\n",
       "      <td>980</td>\n",
       "      <td>255431</td>\n",
       "      <td>0.564402</td>\n",
       "      <td>0.009407</td>\n",
       "      <td>1.580692</td>\n",
       "      <td>-1.0</td>\n",
       "      <td>-1.0</td>\n",
       "      <td>913.250345</td>\n",
       "      <td>10</td>\n",
       "      <td>10</td>\n",
       "    </tr>\n",
       "    <tr>\n",
       "      <th>1</th>\n",
       "      <td>1</td>\n",
       "      <td>1</td>\n",
       "      <td>63</td>\n",
       "      <td>0</td>\n",
       "      <td>991</td>\n",
       "      <td>308595</td>\n",
       "      <td>0.564402</td>\n",
       "      <td>0.009407</td>\n",
       "      <td>1.568660</td>\n",
       "      <td>-1.0</td>\n",
       "      <td>-1.0</td>\n",
       "      <td>1185.318098</td>\n",
       "      <td>86</td>\n",
       "      <td>86</td>\n",
       "    </tr>\n",
       "    <tr>\n",
       "      <th>2</th>\n",
       "      <td>2</td>\n",
       "      <td>1</td>\n",
       "      <td>69</td>\n",
       "      <td>0</td>\n",
       "      <td>997</td>\n",
       "      <td>160184</td>\n",
       "      <td>0.564402</td>\n",
       "      <td>0.009407</td>\n",
       "      <td>1.562095</td>\n",
       "      <td>-1.0</td>\n",
       "      <td>-1.0</td>\n",
       "      <td>514.400704</td>\n",
       "      <td>159</td>\n",
       "      <td>159</td>\n",
       "    </tr>\n",
       "    <tr>\n",
       "      <th>3</th>\n",
       "      <td>3</td>\n",
       "      <td>1</td>\n",
       "      <td>77</td>\n",
       "      <td>0</td>\n",
       "      <td>1005</td>\n",
       "      <td>375561</td>\n",
       "      <td>0.564402</td>\n",
       "      <td>0.009407</td>\n",
       "      <td>1.553337</td>\n",
       "      <td>-1.0</td>\n",
       "      <td>-1.0</td>\n",
       "      <td>1578.430403</td>\n",
       "      <td>53</td>\n",
       "      <td>53</td>\n",
       "    </tr>\n",
       "    <tr>\n",
       "      <th>4</th>\n",
       "      <td>4</td>\n",
       "      <td>1</td>\n",
       "      <td>78</td>\n",
       "      <td>0</td>\n",
       "      <td>1006</td>\n",
       "      <td>248580</td>\n",
       "      <td>0.564402</td>\n",
       "      <td>0.009407</td>\n",
       "      <td>1.552242</td>\n",
       "      <td>-1.0</td>\n",
       "      <td>-1.0</td>\n",
       "      <td>880.766749</td>\n",
       "      <td>47</td>\n",
       "      <td>47</td>\n",
       "    </tr>\n",
       "    <tr>\n",
       "      <th>...</th>\n",
       "      <td>...</td>\n",
       "      <td>...</td>\n",
       "      <td>...</td>\n",
       "      <td>...</td>\n",
       "      <td>...</td>\n",
       "      <td>...</td>\n",
       "      <td>...</td>\n",
       "      <td>...</td>\n",
       "      <td>...</td>\n",
       "      <td>...</td>\n",
       "      <td>...</td>\n",
       "      <td>...</td>\n",
       "      <td>...</td>\n",
       "      <td>...</td>\n",
       "    </tr>\n",
       "    <tr>\n",
       "      <th>17036</th>\n",
       "      <td>17036</td>\n",
       "      <td>1</td>\n",
       "      <td>919</td>\n",
       "      <td>0</td>\n",
       "      <td>1847</td>\n",
       "      <td>74875</td>\n",
       "      <td>0.564402</td>\n",
       "      <td>0.009407</td>\n",
       "      <td>0.609185</td>\n",
       "      <td>-1.0</td>\n",
       "      <td>-1.0</td>\n",
       "      <td>253.681834</td>\n",
       "      <td>81</td>\n",
       "      <td>81</td>\n",
       "    </tr>\n",
       "    <tr>\n",
       "      <th>17037</th>\n",
       "      <td>17037</td>\n",
       "      <td>1</td>\n",
       "      <td>919</td>\n",
       "      <td>0</td>\n",
       "      <td>1847</td>\n",
       "      <td>112482</td>\n",
       "      <td>0.564402</td>\n",
       "      <td>0.009407</td>\n",
       "      <td>0.609185</td>\n",
       "      <td>-1.0</td>\n",
       "      <td>-1.0</td>\n",
       "      <td>357.374903</td>\n",
       "      <td>253</td>\n",
       "      <td>253</td>\n",
       "    </tr>\n",
       "    <tr>\n",
       "      <th>17038</th>\n",
       "      <td>17038</td>\n",
       "      <td>1</td>\n",
       "      <td>919</td>\n",
       "      <td>0</td>\n",
       "      <td>1847</td>\n",
       "      <td>143231</td>\n",
       "      <td>0.564402</td>\n",
       "      <td>0.009407</td>\n",
       "      <td>0.609185</td>\n",
       "      <td>-1.0</td>\n",
       "      <td>-1.0</td>\n",
       "      <td>455.328372</td>\n",
       "      <td>130</td>\n",
       "      <td>130</td>\n",
       "    </tr>\n",
       "    <tr>\n",
       "      <th>17039</th>\n",
       "      <td>17039</td>\n",
       "      <td>1</td>\n",
       "      <td>923</td>\n",
       "      <td>0</td>\n",
       "      <td>1851</td>\n",
       "      <td>160022</td>\n",
       "      <td>0.564402</td>\n",
       "      <td>0.009407</td>\n",
       "      <td>0.604592</td>\n",
       "      <td>-1.0</td>\n",
       "      <td>-1.0</td>\n",
       "      <td>513.819175</td>\n",
       "      <td>154</td>\n",
       "      <td>154</td>\n",
       "    </tr>\n",
       "    <tr>\n",
       "      <th>17040</th>\n",
       "      <td>17040</td>\n",
       "      <td>1</td>\n",
       "      <td>923</td>\n",
       "      <td>0</td>\n",
       "      <td>1851</td>\n",
       "      <td>167506</td>\n",
       "      <td>0.564402</td>\n",
       "      <td>0.009407</td>\n",
       "      <td>0.604592</td>\n",
       "      <td>-1.0</td>\n",
       "      <td>-1.0</td>\n",
       "      <td>541.027761</td>\n",
       "      <td>174</td>\n",
       "      <td>174</td>\n",
       "    </tr>\n",
       "  </tbody>\n",
       "</table>\n",
       "<p>17041 rows × 14 columns</p>\n",
       "</div>"
      ],
      "text/plain": [
       "       raw_indices  frame_indices  scan_indices  precursor_indices  \\\n",
       "0                0              1            52                  0   \n",
       "1                1              1            63                  0   \n",
       "2                2              1            69                  0   \n",
       "3                3              1            77                  0   \n",
       "4                4              1            78                  0   \n",
       "...            ...            ...           ...                ...   \n",
       "17036        17036              1           919                  0   \n",
       "17037        17037              1           919                  0   \n",
       "17038        17038              1           919                  0   \n",
       "17039        17039              1           923                  0   \n",
       "17040        17040              1           923                  0   \n",
       "\n",
       "       push_indices  tof_indices  rt_values  rt_values_min  mobility_values  \\\n",
       "0               980       255431   0.564402       0.009407         1.580692   \n",
       "1               991       308595   0.564402       0.009407         1.568660   \n",
       "2               997       160184   0.564402       0.009407         1.562095   \n",
       "3              1005       375561   0.564402       0.009407         1.553337   \n",
       "4              1006       248580   0.564402       0.009407         1.552242   \n",
       "...             ...          ...        ...            ...              ...   \n",
       "17036          1847        74875   0.564402       0.009407         0.609185   \n",
       "17037          1847       112482   0.564402       0.009407         0.609185   \n",
       "17038          1847       143231   0.564402       0.009407         0.609185   \n",
       "17039          1851       160022   0.564402       0.009407         0.604592   \n",
       "17040          1851       167506   0.564402       0.009407         0.604592   \n",
       "\n",
       "       quad_low_mz_values  quad_high_mz_values    mz_values  intensity_values  \\\n",
       "0                    -1.0                 -1.0   913.250345                10   \n",
       "1                    -1.0                 -1.0  1185.318098                86   \n",
       "2                    -1.0                 -1.0   514.400704               159   \n",
       "3                    -1.0                 -1.0  1578.430403                53   \n",
       "4                    -1.0                 -1.0   880.766749                47   \n",
       "...                   ...                  ...          ...               ...   \n",
       "17036                -1.0                 -1.0   253.681834                81   \n",
       "17037                -1.0                 -1.0   357.374903               253   \n",
       "17038                -1.0                 -1.0   455.328372               130   \n",
       "17039                -1.0                 -1.0   513.819175               154   \n",
       "17040                -1.0                 -1.0   541.027761               174   \n",
       "\n",
       "       corrected_intensity_values  \n",
       "0                              10  \n",
       "1                              86  \n",
       "2                             159  \n",
       "3                              53  \n",
       "4                              47  \n",
       "...                           ...  \n",
       "17036                          81  \n",
       "17037                         253  \n",
       "17038                         130  \n",
       "17039                         154  \n",
       "17040                         174  \n",
       "\n",
       "[17041 rows x 14 columns]"
      ]
     },
     "execution_count": 3,
     "metadata": {},
     "output_type": "execute_result"
    }
   ],
   "source": [
    "import alphatims.bruker\n",
    "\n",
    "bruker_dia_d_folder_name = \"./20201207_tims03_Evo03_PS_SA_HeLa_200ng_EvoSep_prot_DDA_21min_8cm_S1-C10_1_22476.d\"\n",
    "dda_data = alphatims.bruker.TimsTOF(bruker_dia_d_folder_name)\n",
    "\n",
    "# Slice the resulting object to return a pandas dataframe\n",
    "# for full details see https://github.com/MannLabs/alphatims/blob/master/nbs/tutorial.ipynb\n",
    "dda_data[1] # returns the first spectrum"
   ]
  }
 ],
 "metadata": {
  "kernelspec": {
   "display_name": "Python 3 (ipykernel)",
   "language": "python",
   "name": "python3"
  },
  "language_info": {
   "codemirror_mode": {
    "name": "ipython",
    "version": 3
   },
   "file_extension": ".py",
   "mimetype": "text/x-python",
   "name": "python",
   "nbconvert_exporter": "python",
   "pygments_lexer": "ipython3",
   "version": "3.12.11"
  }
 },
 "nbformat": 4,
 "nbformat_minor": 5
}
