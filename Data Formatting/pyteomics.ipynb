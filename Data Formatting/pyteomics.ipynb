{
 "cells": [
  {
   "cell_type": "markdown",
   "id": "fe1ee56b-fcbd-4ee7-be59-04d8799921bf",
   "metadata": {},
   "source": [
    "# Pyteomics"
   ]
  },
  {
   "cell_type": "raw",
   "id": "268917e0-6da5-4065-8c8f-b7e3710c6e80",
   "metadata": {
    "editable": true,
    "raw_mimetype": "text/html",
    "slideshow": {
     "slide_type": ""
    },
    "tags": []
   },
   "source": [
    "<a href=\"https://notebooks.gesis.org/binder/v2/gh/OpenMS/pyopenms_viz/main?filepath=docs/Data Formatting/pyteomics.ipynb\" target=\"_blank\">\n",
    "    <img src=\"https://mybinder.org/badge_logo.svg\" alt=\"Launch on Binder\" style=\"width: 150px;\"/>\n",
    "</a>\n",
    "<br></br>"
   ]
  },
  {
   "cell_type": "markdown",
   "id": "ef467988-ea67-4119-8519-57ec9c70784f",
   "metadata": {},
   "source": [
    "## Install pyteomics"
   ]
  },
  {
   "cell_type": "code",
   "execution_count": 1,
   "id": "57cafd99-f3fb-455a-b2fa-288e6bccf374",
   "metadata": {
    "execution": {
     "iopub.execute_input": "2025-08-01T15:13:52.509781Z",
     "iopub.status.busy": "2025-08-01T15:13:52.509530Z",
     "iopub.status.idle": "2025-08-01T15:13:54.039672Z",
     "shell.execute_reply": "2025-08-01T15:13:54.038941Z"
    }
   },
   "outputs": [
    {
     "name": "stdout",
     "output_type": "stream",
     "text": [
      "\r\n",
      "\u001b[1m[\u001b[0m\u001b[34;49mnotice\u001b[0m\u001b[1;39;49m]\u001b[0m\u001b[39;49m A new release of pip is available: \u001b[0m\u001b[31;49m25.1.1\u001b[0m\u001b[39;49m -> \u001b[0m\u001b[32;49m25.2\u001b[0m\r\n",
      "\u001b[1m[\u001b[0m\u001b[34;49mnotice\u001b[0m\u001b[1;39;49m]\u001b[0m\u001b[39;49m To update, run: \u001b[0m\u001b[32;49mpip install --upgrade pip\u001b[0m\r\n"
     ]
    }
   ],
   "source": [
    "!pip install pyteomics lxml --quiet"
   ]
  },
  {
   "cell_type": "code",
   "execution_count": 2,
   "id": "6f116382-7fea-4435-9717-b742db4e66c6",
   "metadata": {
    "execution": {
     "iopub.execute_input": "2025-08-01T15:13:54.041839Z",
     "iopub.status.busy": "2025-08-01T15:13:54.041628Z",
     "iopub.status.idle": "2025-08-01T15:13:54.333747Z",
     "shell.execute_reply": "2025-08-01T15:13:54.333235Z"
    }
   },
   "outputs": [],
   "source": [
    "import pandas as pd\n",
    "from pyteomics import mzml"
   ]
  },
  {
   "cell_type": "markdown",
   "id": "246fbbb0-8418-476e-91ad-ca5dbeb8d87f",
   "metadata": {},
   "source": [
    "## Download Data"
   ]
  },
  {
   "cell_type": "code",
   "execution_count": 3,
   "id": "1f193209-cd41-4494-a4d4-aaeef0a132d7",
   "metadata": {
    "execution": {
     "iopub.execute_input": "2025-08-01T15:13:54.335781Z",
     "iopub.status.busy": "2025-08-01T15:13:54.335540Z",
     "iopub.status.idle": "2025-08-01T15:13:54.418009Z",
     "shell.execute_reply": "2025-08-01T15:13:54.417401Z"
    }
   },
   "outputs": [
    {
     "name": "stdout",
     "output_type": "stream",
     "text": [
      "File test.mzML downloaded successfully!\n"
     ]
    }
   ],
   "source": [
    "import requests\n",
    "\n",
    "url = 'https://raw.githubusercontent.com/levitsky/pyteomics/master/tests/test.mzML'\n",
    "file_name = 'test.mzML'\n",
    "\n",
    "# # Send a GET request to the URL\n",
    "response = requests.get(url)\n",
    "\n",
    "# # Save the content of the response to a file\n",
    "with open(file_name, 'wb') as file:\n",
    "    file.write(response.content)\n",
    "\n",
    "print(f'File {file_name} downloaded successfully!')"
   ]
  },
  {
   "cell_type": "markdown",
   "id": "ab5fc65d-90fb-41a6-a01e-28cf934d51de",
   "metadata": {},
   "source": [
    "## Load `.mzML` file and convert to `pd.DataFrame`"
   ]
  },
  {
   "cell_type": "code",
   "execution_count": 4,
   "id": "7a0d5e8f-7fbe-4f23-af41-dd652e1c6130",
   "metadata": {
    "execution": {
     "iopub.execute_input": "2025-08-01T15:13:54.419863Z",
     "iopub.status.busy": "2025-08-01T15:13:54.419680Z",
     "iopub.status.idle": "2025-08-01T15:13:54.447641Z",
     "shell.execute_reply": "2025-08-01T15:13:54.447054Z"
    }
   },
   "outputs": [
    {
     "data": {
      "text/html": [
       "<div>\n",
       "<style scoped>\n",
       "    .dataframe tbody tr th:only-of-type {\n",
       "        vertical-align: middle;\n",
       "    }\n",
       "\n",
       "    .dataframe tbody tr th {\n",
       "        vertical-align: top;\n",
       "    }\n",
       "\n",
       "    .dataframe thead th {\n",
       "        text-align: right;\n",
       "    }\n",
       "</style>\n",
       "<table border=\"1\" class=\"dataframe\">\n",
       "  <thead>\n",
       "    <tr style=\"text-align: right;\">\n",
       "      <th></th>\n",
       "      <th>ms_level</th>\n",
       "      <th>rt</th>\n",
       "      <th>mz</th>\n",
       "      <th>int</th>\n",
       "    </tr>\n",
       "  </thead>\n",
       "  <tbody>\n",
       "    <tr>\n",
       "      <th>0</th>\n",
       "      <td>1</td>\n",
       "      <td>0.004935</td>\n",
       "      <td>200.000188</td>\n",
       "      <td>0.0</td>\n",
       "    </tr>\n",
       "    <tr>\n",
       "      <th>0</th>\n",
       "      <td>1</td>\n",
       "      <td>0.004935</td>\n",
       "      <td>200.00043</td>\n",
       "      <td>0.0</td>\n",
       "    </tr>\n",
       "    <tr>\n",
       "      <th>0</th>\n",
       "      <td>1</td>\n",
       "      <td>0.004935</td>\n",
       "      <td>200.000673</td>\n",
       "      <td>0.0</td>\n",
       "    </tr>\n",
       "    <tr>\n",
       "      <th>0</th>\n",
       "      <td>1</td>\n",
       "      <td>0.004935</td>\n",
       "      <td>200.000915</td>\n",
       "      <td>0.0</td>\n",
       "    </tr>\n",
       "    <tr>\n",
       "      <th>0</th>\n",
       "      <td>1</td>\n",
       "      <td>0.004935</td>\n",
       "      <td>202.605829</td>\n",
       "      <td>0.0</td>\n",
       "    </tr>\n",
       "    <tr>\n",
       "      <th>...</th>\n",
       "      <td>...</td>\n",
       "      <td>...</td>\n",
       "      <td>...</td>\n",
       "      <td>...</td>\n",
       "    </tr>\n",
       "    <tr>\n",
       "      <th>1</th>\n",
       "      <td>1</td>\n",
       "      <td>0.005935</td>\n",
       "      <td>1999.913086</td>\n",
       "      <td>0.0</td>\n",
       "    </tr>\n",
       "    <tr>\n",
       "      <th>1</th>\n",
       "      <td>1</td>\n",
       "      <td>0.005935</td>\n",
       "      <td>1999.937256</td>\n",
       "      <td>0.0</td>\n",
       "    </tr>\n",
       "    <tr>\n",
       "      <th>1</th>\n",
       "      <td>1</td>\n",
       "      <td>0.005935</td>\n",
       "      <td>1999.961548</td>\n",
       "      <td>0.0</td>\n",
       "    </tr>\n",
       "    <tr>\n",
       "      <th>1</th>\n",
       "      <td>1</td>\n",
       "      <td>0.005935</td>\n",
       "      <td>1999.985718</td>\n",
       "      <td>0.0</td>\n",
       "    </tr>\n",
       "    <tr>\n",
       "      <th>1</th>\n",
       "      <td>1</td>\n",
       "      <td>0.005935</td>\n",
       "      <td>2000.009888</td>\n",
       "      <td>0.0</td>\n",
       "    </tr>\n",
       "  </tbody>\n",
       "</table>\n",
       "<p>39828 rows × 4 columns</p>\n",
       "</div>"
      ],
      "text/plain": [
       "    ms_level        rt           mz  int\n",
       "0          1  0.004935   200.000188  0.0\n",
       "0          1  0.004935    200.00043  0.0\n",
       "0          1  0.004935   200.000673  0.0\n",
       "0          1  0.004935   200.000915  0.0\n",
       "0          1  0.004935   202.605829  0.0\n",
       "..       ...       ...          ...  ...\n",
       "1          1  0.005935  1999.913086  0.0\n",
       "1          1  0.005935  1999.937256  0.0\n",
       "1          1  0.005935  1999.961548  0.0\n",
       "1          1  0.005935  1999.985718  0.0\n",
       "1          1  0.005935  2000.009888  0.0\n",
       "\n",
       "[39828 rows x 4 columns]"
      ]
     },
     "execution_count": 4,
     "metadata": {},
     "output_type": "execute_result"
    }
   ],
   "source": [
    "input_file = \"./test.mzML\"\n",
    "\n",
    "ms_level, rt, mz, intens = [], [], [], []\n",
    "with mzml.MzML(input_file, decode_binary=False) as reader:\n",
    "    for scan in reader:\n",
    "        ms_level.append(scan['ms level'])\n",
    "        rt.append(scan['scanList']['scan'][0]['scan start time'])\n",
    "        mz.append(scan['m/z array'].decode())\n",
    "        intens.append(scan['intensity array'].decode())\n",
    "df = pd.DataFrame({'ms_level':ms_level, 'rt':rt, 'mz':mz, 'int':intens})\n",
    "# Explode mzarray and intarray columns to make the DataFrame long\n",
    "df = df.explode(['mz', 'int'])\n",
    "df"
   ]
  }
 ],
 "metadata": {
  "kernelspec": {
   "display_name": "Python 3 (ipykernel)",
   "language": "python",
   "name": "python3"
  },
  "language_info": {
   "codemirror_mode": {
    "name": "ipython",
    "version": 3
   },
   "file_extension": ".py",
   "mimetype": "text/x-python",
   "name": "python",
   "nbconvert_exporter": "python",
   "pygments_lexer": "ipython3",
   "version": "3.12.11"
  }
 },
 "nbformat": 4,
 "nbformat_minor": 5
}
